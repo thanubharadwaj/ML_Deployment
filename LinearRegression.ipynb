{
 "cells": [
  {
   "cell_type": "code",
   "execution_count": 1,
   "id": "ebe267f3",
   "metadata": {},
   "outputs": [],
   "source": [
    "import numpy as np\n",
    "import pandas as pd\n",
    "import matplotlib.pyplot as plt\n",
    "import seaborn as sns"
   ]
  },
  {
   "cell_type": "code",
   "execution_count": 2,
   "id": "23df2813",
   "metadata": {},
   "outputs": [],
   "source": [
    "df = pd.read_csv('advertising.csv')"
   ]
  },
  {
   "cell_type": "code",
   "execution_count": 3,
   "id": "6ffe43ef",
   "metadata": {},
   "outputs": [
    {
     "data": {
      "text/html": [
       "<div>\n",
       "<style scoped>\n",
       "    .dataframe tbody tr th:only-of-type {\n",
       "        vertical-align: middle;\n",
       "    }\n",
       "\n",
       "    .dataframe tbody tr th {\n",
       "        vertical-align: top;\n",
       "    }\n",
       "\n",
       "    .dataframe thead th {\n",
       "        text-align: right;\n",
       "    }\n",
       "</style>\n",
       "<table border=\"1\" class=\"dataframe\">\n",
       "  <thead>\n",
       "    <tr style=\"text-align: right;\">\n",
       "      <th></th>\n",
       "      <th>TV</th>\n",
       "      <th>Radio</th>\n",
       "      <th>Newspaper</th>\n",
       "      <th>Sales</th>\n",
       "    </tr>\n",
       "  </thead>\n",
       "  <tbody>\n",
       "    <tr>\n",
       "      <th>0</th>\n",
       "      <td>230.1</td>\n",
       "      <td>37.8</td>\n",
       "      <td>69.2</td>\n",
       "      <td>22.1</td>\n",
       "    </tr>\n",
       "    <tr>\n",
       "      <th>1</th>\n",
       "      <td>44.5</td>\n",
       "      <td>39.3</td>\n",
       "      <td>45.1</td>\n",
       "      <td>10.4</td>\n",
       "    </tr>\n",
       "    <tr>\n",
       "      <th>2</th>\n",
       "      <td>17.2</td>\n",
       "      <td>45.9</td>\n",
       "      <td>69.3</td>\n",
       "      <td>12.0</td>\n",
       "    </tr>\n",
       "    <tr>\n",
       "      <th>3</th>\n",
       "      <td>151.5</td>\n",
       "      <td>41.3</td>\n",
       "      <td>58.5</td>\n",
       "      <td>16.5</td>\n",
       "    </tr>\n",
       "    <tr>\n",
       "      <th>4</th>\n",
       "      <td>180.8</td>\n",
       "      <td>10.8</td>\n",
       "      <td>58.4</td>\n",
       "      <td>17.9</td>\n",
       "    </tr>\n",
       "  </tbody>\n",
       "</table>\n",
       "</div>"
      ],
      "text/plain": [
       "      TV  Radio  Newspaper  Sales\n",
       "0  230.1   37.8       69.2   22.1\n",
       "1   44.5   39.3       45.1   10.4\n",
       "2   17.2   45.9       69.3   12.0\n",
       "3  151.5   41.3       58.5   16.5\n",
       "4  180.8   10.8       58.4   17.9"
      ]
     },
     "execution_count": 3,
     "metadata": {},
     "output_type": "execute_result"
    }
   ],
   "source": [
    "df.head()"
   ]
  },
  {
   "cell_type": "code",
   "execution_count": 4,
   "id": "b972fe56",
   "metadata": {},
   "outputs": [],
   "source": [
    "df = df.drop(['Radio','Newspaper'],axis=1)"
   ]
  },
  {
   "cell_type": "code",
   "execution_count": 5,
   "id": "87cda36f",
   "metadata": {},
   "outputs": [
    {
     "data": {
      "text/plain": [
       "(200, 2)"
      ]
     },
     "execution_count": 5,
     "metadata": {},
     "output_type": "execute_result"
    }
   ],
   "source": [
    "df.shape"
   ]
  },
  {
   "cell_type": "code",
   "execution_count": 6,
   "id": "3ce735ec",
   "metadata": {},
   "outputs": [
    {
     "name": "stdout",
     "output_type": "stream",
     "text": [
      "<class 'pandas.core.frame.DataFrame'>\n",
      "RangeIndex: 200 entries, 0 to 199\n",
      "Data columns (total 2 columns):\n",
      " #   Column  Non-Null Count  Dtype  \n",
      "---  ------  --------------  -----  \n",
      " 0   TV      200 non-null    float64\n",
      " 1   Sales   200 non-null    float64\n",
      "dtypes: float64(2)\n",
      "memory usage: 3.2 KB\n"
     ]
    }
   ],
   "source": [
    "df.info()"
   ]
  },
  {
   "cell_type": "code",
   "execution_count": 7,
   "id": "73eba22a",
   "metadata": {},
   "outputs": [
    {
     "data": {
      "text/html": [
       "<div>\n",
       "<style scoped>\n",
       "    .dataframe tbody tr th:only-of-type {\n",
       "        vertical-align: middle;\n",
       "    }\n",
       "\n",
       "    .dataframe tbody tr th {\n",
       "        vertical-align: top;\n",
       "    }\n",
       "\n",
       "    .dataframe thead th {\n",
       "        text-align: right;\n",
       "    }\n",
       "</style>\n",
       "<table border=\"1\" class=\"dataframe\">\n",
       "  <thead>\n",
       "    <tr style=\"text-align: right;\">\n",
       "      <th></th>\n",
       "      <th>TV</th>\n",
       "      <th>Sales</th>\n",
       "    </tr>\n",
       "  </thead>\n",
       "  <tbody>\n",
       "    <tr>\n",
       "      <th>count</th>\n",
       "      <td>200.000000</td>\n",
       "      <td>200.000000</td>\n",
       "    </tr>\n",
       "    <tr>\n",
       "      <th>mean</th>\n",
       "      <td>147.042500</td>\n",
       "      <td>15.130500</td>\n",
       "    </tr>\n",
       "    <tr>\n",
       "      <th>std</th>\n",
       "      <td>85.854236</td>\n",
       "      <td>5.283892</td>\n",
       "    </tr>\n",
       "    <tr>\n",
       "      <th>min</th>\n",
       "      <td>0.700000</td>\n",
       "      <td>1.600000</td>\n",
       "    </tr>\n",
       "    <tr>\n",
       "      <th>25%</th>\n",
       "      <td>74.375000</td>\n",
       "      <td>11.000000</td>\n",
       "    </tr>\n",
       "    <tr>\n",
       "      <th>50%</th>\n",
       "      <td>149.750000</td>\n",
       "      <td>16.000000</td>\n",
       "    </tr>\n",
       "    <tr>\n",
       "      <th>75%</th>\n",
       "      <td>218.825000</td>\n",
       "      <td>19.050000</td>\n",
       "    </tr>\n",
       "    <tr>\n",
       "      <th>max</th>\n",
       "      <td>296.400000</td>\n",
       "      <td>27.000000</td>\n",
       "    </tr>\n",
       "  </tbody>\n",
       "</table>\n",
       "</div>"
      ],
      "text/plain": [
       "               TV       Sales\n",
       "count  200.000000  200.000000\n",
       "mean   147.042500   15.130500\n",
       "std     85.854236    5.283892\n",
       "min      0.700000    1.600000\n",
       "25%     74.375000   11.000000\n",
       "50%    149.750000   16.000000\n",
       "75%    218.825000   19.050000\n",
       "max    296.400000   27.000000"
      ]
     },
     "execution_count": 7,
     "metadata": {},
     "output_type": "execute_result"
    }
   ],
   "source": [
    "df.describe()\n"
   ]
  },
  {
   "cell_type": "code",
   "execution_count": 8,
   "id": "995b7d00",
   "metadata": {},
   "outputs": [],
   "source": [
    "X = df['TV'].values\n",
    "y = df['Sales'].values"
   ]
  },
  {
   "cell_type": "code",
   "execution_count": 9,
   "id": "964709a2",
   "metadata": {},
   "outputs": [
    {
     "data": {
      "image/png": "[encoded data removed]",
      "text/plain": [
       "<Figure size 432x288 with 1 Axes>"
      ]
     },
     "metadata": {
      "needs_background": "light"
     },
     "output_type": "display_data"
    }
   ],
   "source": [
    "plt.scatter(X,y,color='b',label='scatter plot')\n",
    "plt.xlabel('TV')\n",
    "plt.ylabel('Sales')\n",
    "plt.title('Relationship with TV and Sales')\n",
    "plt.legend(loc=2)\n",
    "plt.show()"
   ]
  },
  {
   "cell_type": "code",
   "execution_count": 10,
   "id": "40de6998",
   "metadata": {},
   "outputs": [
    {
     "data": {
      "text/plain": [
       "<seaborn.axisgrid.PairGrid at 0x16bb67cfa00>"
      ]
     },
     "execution_count": 10,
     "metadata": {},
     "output_type": "execute_result"
    },
    {
     "data": {
      "image/png": "[encoded data removed]",
      "text/plain": [
       "<Figure size 432x288 with 1 Axes>"
      ]
     },
     "metadata": {
      "needs_background": "light"
     },
     "output_type": "display_data"
    },
    {
     "data": {
      "image/png": "[encoded data removed]",
      "text/plain": [
       "<Figure size 360x360 with 6 Axes>"
      ]
     },
     "metadata": {
      "needs_background": "light"
     },
     "output_type": "display_data"
    }
   ],
   "source": [
    "sns.scatterplot(data=df,x='TV',y='Sales')\n",
    "# plot a pairplot also for df\n",
    "sns.pairplot(df)"
   ]
  },
  {
   "cell_type": "code",
   "execution_count": 11,
   "id": "eb72aafc",
   "metadata": {},
   "outputs": [
    {
     "name": "stdout",
     "output_type": "stream",
     "text": [
      "(200,)\n",
      "(200,)\n"
     ]
    }
   ],
   "source": [
    "print(X.shape)\n",
    "print(y.shape)"
   ]
  },
  {
   "cell_type": "code",
   "execution_count": 12,
   "id": "24e6b403",
   "metadata": {},
   "outputs": [],
   "source": [
    "X = X.reshape(-1,1)\n",
    "y = y.reshape(-1,1)"
   ]
  },
  {
   "cell_type": "code",
   "execution_count": 13,
   "id": "42e18c9f",
   "metadata": {},
   "outputs": [
    {
     "data": {
      "text/plain": [
       "(200, 1)"
      ]
     },
     "execution_count": 13,
     "metadata": {},
     "output_type": "execute_result"
    }
   ],
   "source": [
    "X.shape"
   ]
  },
  {
   "cell_type": "code",
   "execution_count": 14,
   "id": "b1401ba9",
   "metadata": {},
   "outputs": [],
   "source": [
    "from sklearn.model_selection import train_test_split\n",
    "X_train,X_test,y_train,y_test = train_test_split(X,y)"
   ]
  },
  {
   "cell_type": "code",
   "execution_count": 15,
   "id": "5dafc249",
   "metadata": {},
   "outputs": [
    {
     "name": "stdout",
     "output_type": "stream",
     "text": [
      "(150, 1)\n",
      "(150, 1)\n",
      "(50, 1)\n",
      "(50, 1)\n"
     ]
    }
   ],
   "source": [
    "print(X_train.shape)\n",
    "print(y_train.shape)\n",
    "print(X_test.shape)\n",
    "print(y_test.shape)"
   ]
  },
  {
   "cell_type": "code",
   "execution_count": 16,
   "id": "a5d52697",
   "metadata": {},
   "outputs": [
    {
     "data": {
      "text/plain": [
       "array([[ 7.98025892],\n",
       "       [13.70535458],\n",
       "       [18.97686778],\n",
       "       [22.92082257],\n",
       "       [12.28929227],\n",
       "       [12.18972539],\n",
       "       [14.80059027],\n",
       "       [12.21738286],\n",
       "       [ 8.21258165],\n",
       "       [15.92901492],\n",
       "       [17.46677009],\n",
       "       [10.64643874],\n",
       "       [20.17720185],\n",
       "       [10.19285628],\n",
       "       [17.58293145],\n",
       "       [17.1238175 ],\n",
       "       [20.02785152],\n",
       "       [13.84917341],\n",
       "       [17.94801001],\n",
       "       [16.21112109],\n",
       "       [18.88836389],\n",
       "       [ 8.37852645],\n",
       "       [20.34867814],\n",
       "       [19.09302914],\n",
       "       [13.56153575],\n",
       "       [14.42998021],\n",
       "       [11.12214717],\n",
       "       [22.58340147],\n",
       "       [14.18106301],\n",
       "       [ 7.62071185],\n",
       "       [12.10675299],\n",
       "       [22.39533069],\n",
       "       [ 9.28015987],\n",
       "       [17.94801001],\n",
       "       [18.86623791],\n",
       "       [20.6363158 ],\n",
       "       [16.37153439],\n",
       "       [19.73468237],\n",
       "       [13.14114226],\n",
       "       [16.99659315],\n",
       "       [15.99539284],\n",
       "       [15.2762987 ],\n",
       "       [19.59086355],\n",
       "       [22.62212192],\n",
       "       [20.65844177],\n",
       "       [18.18586423],\n",
       "       [19.4636392 ],\n",
       "       [22.03578362],\n",
       "       [ 9.00911669],\n",
       "       [10.07669492]])"
      ]
     },
     "execution_count": 16,
     "metadata": {},
     "output_type": "execute_result"
    }
   ],
   "source": [
    "from sklearn.linear_model import LinearRegression\n",
    "lm = LinearRegression()\n",
    "lm.fit(X_train,y_train)\n",
    "y_pred = lm.predict(X_test)\n",
    "y_pred"
   ]
  },
  {
   "cell_type": "code",
   "execution_count": 17,
   "id": "e45c87d7",
   "metadata": {},
   "outputs": [
    {
     "name": "stdout",
     "output_type": "stream",
     "text": [
      "[[0.05531493]]\n",
      "[6.89608622]\n"
     ]
    }
   ],
   "source": [
    "a = lm.coef_\n",
    "b = lm.intercept_\n",
    "print(a)\n",
    "print(b)"
   ]
  },
  {
   "cell_type": "code",
   "execution_count": 18,
   "id": "7a662719",
   "metadata": {},
   "outputs": [
    {
     "data": {
      "text/plain": [
       "array([[19.62405251],\n",
       "       [ 9.35760078],\n",
       "       [ 7.84750308],\n",
       "       [15.2762987 ],\n",
       "       [16.89702627]])"
      ]
     },
     "execution_count": 18,
     "metadata": {},
     "output_type": "execute_result"
    }
   ],
   "source": [
    "#making the prediction \n",
    "# to make single prediction lm.predict(xi) xi = single value of tv\n",
    "#Predicting Sales values on first five 5 TV  datasets only\n",
    "lm.predict(X)[0:5]"
   ]
  },
  {
   "cell_type": "code",
   "execution_count": 19,
   "id": "1b88cbe7",
   "metadata": {},
   "outputs": [
    {
     "data": {
      "text/plain": [
       "array([[19.62405251],\n",
       "       [ 9.35760078],\n",
       "       [ 7.84750308],\n",
       "       [15.2762987 ],\n",
       "       [16.89702627],\n",
       "       [ 7.37732614],\n",
       "       [10.07669492],\n",
       "       [13.54494127],\n",
       "       [ 7.37179465],\n",
       "       [17.94801001],\n",
       "       [10.55240335],\n",
       "       [18.77220253],\n",
       "       [ 8.21258165],\n",
       "       [12.28929227],\n",
       "       [18.18586423],\n",
       "       [17.7046243 ],\n",
       "       [10.64643874],\n",
       "       [22.46170862],\n",
       "       [10.72387964],\n",
       "       [15.04397598],\n",
       "       [18.97686778],\n",
       "       [20.02785152],\n",
       "       [ 7.62624335],\n",
       "       [19.52448563],\n",
       "       [10.3422066 ],\n",
       "       [21.43838234],\n",
       "       [14.80059027],\n",
       "       [20.17720185],\n",
       "       [20.65844177],\n",
       "       [10.80132055],\n",
       "       [23.09783036],\n",
       "       [13.14114226],\n",
       "       [12.27269779],\n",
       "       [21.58773266],\n",
       "       [12.18972539],\n",
       "       [22.9761375 ],\n",
       "       [21.65964207],\n",
       "       [11.02811178],\n",
       "       [ 9.28015987],\n",
       "       [19.50789115],\n",
       "       [18.09736033],\n",
       "       [16.68682952],\n",
       "       [23.13655081],\n",
       "       [18.34074604],\n",
       "       [ 8.28449106],\n",
       "       [16.58173114],\n",
       "       [11.85783579],\n",
       "       [20.16613886],\n",
       "       [19.4636392 ],\n",
       "       [10.5966553 ],\n",
       "       [17.94801001],\n",
       "       [12.44970558],\n",
       "       [18.86623791],\n",
       "       [16.99659315],\n",
       "       [21.42731935],\n",
       "       [17.89822657],\n",
       "       [ 7.29988524],\n",
       "       [14.42998021],\n",
       "       [18.55647428],\n",
       "       [18.55094279],\n",
       "       [ 9.85543518],\n",
       "       [21.34987844],\n",
       "       [20.1329499 ],\n",
       "       [12.57692993],\n",
       "       [14.14787405],\n",
       "       [10.71281666],\n",
       "       [ 8.63850664],\n",
       "       [14.60145651],\n",
       "       [20.02785152],\n",
       "       [18.88836389],\n",
       "       [17.90928956],\n",
       "       [12.96966596],\n",
       "       [ 8.37852645],\n",
       "       [14.05383866],\n",
       "       [18.70029311],\n",
       "       [ 7.8309086 ],\n",
       "       [ 8.4172469 ],\n",
       "       [13.56153575],\n",
       "       [ 7.19478686],\n",
       "       [13.31261855],\n",
       "       [11.12214717],\n",
       "       [20.16060737],\n",
       "       [11.06130074],\n",
       "       [10.6796277 ],\n",
       "       [18.7058246 ],\n",
       "       [17.58293145],\n",
       "       [11.11661568],\n",
       "       [13.0194494 ],\n",
       "       [11.78039488],\n",
       "       [12.96966596],\n",
       "       [14.32488184],\n",
       "       [ 8.47809333],\n",
       "       [18.93814733],\n",
       "       [20.77460313],\n",
       "       [12.83691012],\n",
       "       [15.92901492],\n",
       "       [17.82631716],\n",
       "       [17.1238175 ],\n",
       "       [22.92082257],\n",
       "       [14.37466528],\n",
       "       [19.19812752],\n",
       "       [23.29143262],\n",
       "       [22.39533069],\n",
       "       [17.2897623 ],\n",
       "       [20.07210347],\n",
       "       [14.5240156 ],\n",
       "       [ 8.27895957],\n",
       "       [11.89655624],\n",
       "       [ 7.62071185],\n",
       "       [21.02352033],\n",
       "       [19.38619829],\n",
       "       [20.26570574],\n",
       "       [16.6149201 ],\n",
       "       [18.49009636],\n",
       "       [11.22171405],\n",
       "       [11.05023775],\n",
       "       [14.59592502],\n",
       "       [11.12214717],\n",
       "       [13.84917341],\n",
       "       [ 7.96919594],\n",
       "       [14.71208638],\n",
       "       [ 7.93600698],\n",
       "       [19.28663141],\n",
       "       [13.70535458],\n",
       "       [19.59086355],\n",
       "       [11.71954845],\n",
       "       [ 7.3275427 ],\n",
       "       [11.33234392],\n",
       "       [19.08196615],\n",
       "       [10.19285628],\n",
       "       [ 6.93480667],\n",
       "       [21.56560669],\n",
       "       [ 7.36073166],\n",
       "       [19.05430869],\n",
       "       [ 8.93720728],\n",
       "       [ 9.56779753],\n",
       "       [ 8.31214853],\n",
       "       [22.03578362],\n",
       "       [ 9.27462838],\n",
       "       [17.1238175 ],\n",
       "       [10.95620237],\n",
       "       [17.61058891],\n",
       "       [19.09302914],\n",
       "       [12.6820283 ],\n",
       "       [12.21738286],\n",
       "       [14.65677144],\n",
       "       [20.17720185],\n",
       "       [20.34867814],\n",
       "       [ 8.99805371],\n",
       "       [ 9.36866376],\n",
       "       [22.42298816],\n",
       "       [13.58919322],\n",
       "       [17.82631716],\n",
       "       [16.37153439],\n",
       "       [17.2842308 ],\n",
       "       [ 7.12287745],\n",
       "       [12.09015851],\n",
       "       [15.18226332],\n",
       "       [ 7.54327095],\n",
       "       [14.18106301],\n",
       "       [16.43791232],\n",
       "       [11.63657605],\n",
       "       [17.31741976],\n",
       "       [15.94007791],\n",
       "       [13.37899647],\n",
       "       [19.86743822],\n",
       "       [ 7.88622354],\n",
       "       [18.33521455],\n",
       "       [18.81092298],\n",
       "       [22.62212192],\n",
       "       [ 9.66183291],\n",
       "       [15.99539284],\n",
       "       [ 7.98025892],\n",
       "       [16.21112109],\n",
       "       [19.19812752],\n",
       "       [22.21279141],\n",
       "       [20.6363158 ],\n",
       "       [16.31068797],\n",
       "       [22.20172843],\n",
       "       [16.05623927],\n",
       "       [15.55840487],\n",
       "       [18.98239927],\n",
       "       [10.0047855 ],\n",
       "       [22.80466121],\n",
       "       [20.93501644],\n",
       "       [18.23564767],\n",
       "       [14.6125195 ],\n",
       "       [17.46677009],\n",
       "       [22.71615731],\n",
       "       [ 7.93047548],\n",
       "       [ 9.08102611],\n",
       "       [11.07236373],\n",
       "       [ 7.84750308],\n",
       "       [16.12261719],\n",
       "       [15.17673182],\n",
       "       [ 9.00911669],\n",
       "       [12.10675299],\n",
       "       [16.68682952],\n",
       "       [22.58340147],\n",
       "       [19.73468237]])"
      ]
     },
     "execution_count": 19,
     "metadata": {},
     "output_type": "execute_result"
    }
   ],
   "source": [
    "lm.predict(X)"
   ]
  },
  {
   "cell_type": "code",
   "execution_count": 20,
   "id": "4cca2bca",
   "metadata": {},
   "outputs": [
    {
     "name": "stdout",
     "output_type": "stream",
     "text": [
      "1.9132558201922594\n"
     ]
    }
   ],
   "source": [
    "#Regression metrics for model evaluation\n",
    "from sklearn.metrics import mean_squared_error\n",
    "mse = mean_squared_error(y_test,y_pred)\n",
    "rmse = np.sqrt(mse)\n",
    "print(rmse)"
   ]
  },
  {
   "cell_type": "code",
   "execution_count": 21,
   "id": "f5f1e339",
   "metadata": {},
   "outputs": [
    {
     "name": "stdout",
     "output_type": "stream",
     "text": [
      "0.8373481951062306\n"
     ]
    }
   ],
   "source": [
    "from sklearn.metrics import r2_score\n",
    "print(format(r2_score(y_test,y_pred)))"
   ]
  },
  {
   "cell_type": "code",
   "execution_count": 22,
   "id": "d742c1e7",
   "metadata": {},
   "outputs": [
    {
     "data": {
      "image/png": "[encoded data removed]",
      "text/plain": [
       "<Figure size 432x288 with 1 Axes>"
      ]
     },
     "metadata": {
      "needs_background": "light"
     },
     "output_type": "display_data"
    }
   ],
   "source": [
    "#Regression line\n",
    "plt.scatter(X_test,y_test,color = 'blue', label='Scatter plot')\n",
    "plt.plot(X_test,y_pred,color ='black', label='Regression Line')\n",
    "plt.title('Relationship between sales and advertising')\n",
    "plt.xlabel('Sales')\n",
    "plt.ylabel('Advertising')\n",
    "plt.legend(loc=4)\n",
    "plt.show()"
   ]
  },
  {
   "cell_type": "code",
   "execution_count": 23,
   "id": "3ceccde9",
   "metadata": {},
   "outputs": [
    {
     "data": {
      "text/plain": [
       "Text(0.5, 1.0, 'Residual error ')"
      ]
     },
     "execution_count": 23,
     "metadata": {},
     "output_type": "execute_result"
    },
    {
     "data": {
      "image/png": "[encoded data removed]",
      "text/plain": [
       "<Figure size 432x288 with 1 Axes>"
      ]
     },
     "metadata": {
      "needs_background": "light"
     },
     "output_type": "display_data"
    }
   ],
   "source": [
    "#Residual Analysis\n",
    "plt.scatter(lm.predict(X_train), lm.predict(X_train) - y_train , color = 'red',label= 'Train_data')\n",
    "plt.scatter(lm.predict(X_test), lm.predict(X_test) - y_test , color = 'green',label= 'Test_data')\n",
    "plt.hlines(xmin=0,xmax=50,y =0 ,linewidth=3)\n",
    "plt.legend(loc=4)\n",
    "plt.title('Residual error ')"
   ]
  },
  {
   "cell_type": "code",
   "execution_count": 24,
   "id": "d90350ae",
   "metadata": {},
   "outputs": [
    {
     "name": "stdout",
     "output_type": "stream",
     "text": [
      "0.8017499848513653\n",
      "0.8373481951062306\n"
     ]
    }
   ],
   "source": [
    "print(lm.score(X_train,y_train))\n",
    "print(lm.score(X_test,y_test))"
   ]
  },
  {
   "cell_type": "code",
   "execution_count": 25,
   "id": "2372d853",
   "metadata": {},
   "outputs": [
    {
     "data": {
      "text/plain": [
       "'1.1.2'"
      ]
     },
     "execution_count": 25,
     "metadata": {},
     "output_type": "execute_result"
    }
   ],
   "source": [
    "import flask\n",
    "flask.__version__"
   ]
  },
  {
   "cell_type": "code",
   "execution_count": 26,
   "id": "1affe77d",
   "metadata": {},
   "outputs": [],
   "source": [
    "import pickle"
   ]
  },
  {
   "cell_type": "code",
   "execution_count": 28,
   "id": "777836fe",
   "metadata": {},
   "outputs": [],
   "source": [
    "pickle.dump(lm,open('LinearRegression.pkl','wb+'))"
   ]
  },
  {
   "cell_type": "code",
   "execution_count": null,
   "id": "a0a36cc7",
   "metadata": {},
   "outputs": [],
   "source": []
  }
 ],
 "metadata": {
  "kernelspec": {
   "display_name": "Python 3 (ipykernel)",
   "language": "python",
   "name": "python3"
  },
  "language_info": {
   "codemirror_mode": {
    "name": "ipython",
    "version": 3
   },
   "file_extension": ".py",
   "mimetype": "text/x-python",
   "name": "python",
   "nbconvert_exporter": "python",
   "pygments_lexer": "ipython3",
   "version": "3.9.12"
  }
 },
 "nbformat": 4,
 "nbformat_minor": 5
}
